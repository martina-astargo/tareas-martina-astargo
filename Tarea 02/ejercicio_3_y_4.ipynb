{
  "nbformat": 4,
  "nbformat_minor": 0,
  "metadata": {
    "colab": {
      "provenance": []
    },
    "kernelspec": {
      "name": "python3",
      "display_name": "Python 3"
    },
    "language_info": {
      "name": "python"
    }
  },
  "cells": [
    {
      "cell_type": "code",
      "execution_count": 1,
      "metadata": {
        "colab": {
          "base_uri": "https://localhost:8080/"
        },
        "id": "9QaVseunZF7D",
        "outputId": "24190ba3-b4f9-426c-dca4-fadfa7a48b65"
      },
      "outputs": [
        {
          "output_type": "stream",
          "name": "stdout",
          "text": [
            "Enter the first number: 98\n",
            "Enter the second number: 120\n",
            "es mayor a 200 y menor a 250\n"
          ]
        }
      ],
      "source": [
        "# Declare variables (optional in Python, variables are created when assigned)\n",
        "# numero1, numero2, suma, resultado\n",
        "\n",
        "# Leer numero1 y numero2\n",
        "# Use the input() function to get user input and convert it to integers\n",
        "try:\n",
        "    numero1 = int(input(\"Enter the first number: \"))\n",
        "    numero2 = int(input(\"Enter the second number: \"))\n",
        "except ValueError:\n",
        "    resultado = \"Invalid input. Please enter numbers.\"\n",
        "    print(resultado)\n",
        "    exit() # Exit if input is invalid\n",
        "\n",
        "# suma = numero1 + numero2\n",
        "suma = numero1 + numero2\n",
        "\n",
        "# Si (suma< loo) entonces\n",
        "# Use 'if' for conditional statements and correct 'loo' to 200\n",
        "if suma < 200:\n",
        "    resultado = \"es menor a 200\"\n",
        "# si no\n",
        "# Use 'elif' for else if conditions\n",
        "elif 200 <= suma < 250:\n",
        "    resultado = \"es mayor a 200 y menor a 250\"\n",
        "# Si no resultado = \"es mayor a 250\"\n",
        "# Use 'else' for the remaining condition\n",
        "else:\n",
        "    resultado = \"es mayor a 250\"\n",
        "\n",
        "# Print the result\n",
        "print(resultado)"
      ]
    },
    {
      "cell_type": "code",
      "source": [
        "\n",
        "\n",
        "# Leer edad y gusta_musica_urbana\n",
        "# Use input() to get user input and convert age to integer.\n",
        "# For gusta_musica_urbana, we can ask for a yes/no input and convert it to a boolean.\n",
        "try:\n",
        "    edad = int(input(\"Enter your age: \"))\n",
        "    gusta_musica_urbana_input = input(\"Do you like urban music? (yes/no): \").lower()\n",
        "    gusta_musica_urbana = True if gusta_musica_urbana_input == 'yes' else False\n",
        "except ValueError:\n",
        "    print(\"Invalid input for age. Please enter a number.\")\n",
        "    exit() # Exit if age input is invalid\n",
        "\n",
        "# Si (edad > 18 y gusta_musica_urbana == true) entonces\n",
        "# Use 'if' for conditional statements and 'and' for the logical operator\n",
        "if edad > 18 and gusta_musica_urbana:\n",
        "  resultado = \"Eres mayor de edad y te gusta la música urbana\"\n",
        "  # Imprimir resultado\n",
        "  print(resultado)\n",
        "# Si no\n",
        "# Use 'else' for the remaining condition\n",
        "else:\n",
        "  resultado = \"No eres mayor de edad o no te gusta la música urbana\"\n",
        "  # Imprimir resultado\n",
        "  print(resultado)\n",
        "\n",
        "# Fin (Not needed in Python)"
      ],
      "metadata": {
        "colab": {
          "base_uri": "https://localhost:8080/"
        },
        "id": "yplLn7to4dKN",
        "outputId": "863d2f49-4e20-4284-cace-2b99ede1b397"
      },
      "execution_count": 4,
      "outputs": [
        {
          "output_type": "stream",
          "name": "stdout",
          "text": [
            "Enter your age: 19\n",
            "Do you like urban music? (yes/no): no\n",
            "No eres mayor de edad o no te gusta la música urbana\n"
          ]
        }
      ]
    }
  ]
}